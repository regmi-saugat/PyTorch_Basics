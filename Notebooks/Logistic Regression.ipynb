{
 "cells": [
  {
   "cell_type": "markdown",
   "id": "4ea7940b",
   "metadata": {},
   "source": [
    "**Working with Images & Logistic Regression in PyTorch**"
   ]
  },
  {
   "cell_type": "code",
   "execution_count": 1,
   "id": "490d1041",
   "metadata": {},
   "outputs": [],
   "source": [
    "#@ Importing the required libraries and dependencies\n",
    "import torch\n",
    "import torchvision\n",
    "from torchvision.datasets import MNIST\n",
    "import matplotlib.pyplot as plt\n",
    "import torchvision.transforms as transforms"
   ]
  },
  {
   "cell_type": "code",
   "execution_count": 2,
   "id": "ca9f720f",
   "metadata": {},
   "outputs": [],
   "source": [
    "#@ Downloading the training dataset\n",
    "data = MNIST(root='data/', download=True)\n",
    "#@ Downloading the test dataset\n",
    "test_data = MNIST(root='data/', train=False)"
   ]
  },
  {
   "cell_type": "code",
   "execution_count": 3,
   "id": "7bcd365c",
   "metadata": {},
   "outputs": [
    {
     "data": {
      "text/plain": [
       "60000"
      ]
     },
     "execution_count": 3,
     "metadata": {},
     "output_type": "execute_result"
    }
   ],
   "source": [
    "#@ Checking the size of the dataset\n",
    "len(data)"
   ]
  },
  {
   "cell_type": "code",
   "execution_count": 4,
   "id": "9220afd0",
   "metadata": {},
   "outputs": [
    {
     "data": {
      "text/plain": [
       "(<PIL.Image.Image image mode=L size=28x28 at 0x7F20D90E8850>, 0)"
      ]
     },
     "execution_count": 4,
     "metadata": {},
     "output_type": "execute_result"
    }
   ],
   "source": [
    "data[1]"
   ]
  },
  {
   "cell_type": "code",
   "execution_count": 5,
   "id": "485335d0",
   "metadata": {},
   "outputs": [
    {
     "name": "stdout",
     "output_type": "stream",
     "text": [
      "Label 0\n"
     ]
    },
    {
     "data": {
      "image/png": "[encoded data removed]",
      "text/plain": [
       "<Figure size 640x480 with 1 Axes>"
      ]
     },
     "metadata": {},
     "output_type": "display_data"
    }
   ],
   "source": [
    "#@ Plotting the image\n",
    "image, label = data[1]\n",
    "plt.imshow(image, cmap='gray')\n",
    "print('Label', label)"
   ]
  },
  {
   "cell_type": "code",
   "execution_count": 6,
   "id": "43633c8e",
   "metadata": {},
   "outputs": [
    {
     "name": "stdout",
     "output_type": "stream",
     "text": [
      "Label 4\n"
     ]
    },
    {
     "data": {
      "image/png": "[encoded data removed]",
      "text/plain": [
       "<Figure size 640x480 with 1 Axes>"
      ]
     },
     "metadata": {},
     "output_type": "display_data"
    }
   ],
   "source": [
    "#@ Plotting the image\n",
    "image, label = data[2]\n",
    "plt.imshow(image, cmap='gray')\n",
    "print('Label', label)"
   ]
  },
  {
   "cell_type": "code",
   "execution_count": 7,
   "id": "06028b7f",
   "metadata": {},
   "outputs": [
    {
     "name": "stdout",
     "output_type": "stream",
     "text": [
      "torch.Size([1, 28, 28]) 0\n"
     ]
    }
   ],
   "source": [
    "#@ Convert images into PyTorch tensors\n",
    "data = MNIST(root='data/',\n",
    "            train=True,\n",
    "            transform=transforms.ToTensor())\n",
    "\n",
    "img_tensor, label = data[1]\n",
    "print(img_tensor.shape, label)"
   ]
  },
  {
   "cell_type": "code",
   "execution_count": 8,
   "id": "51be2bfc",
   "metadata": {},
   "outputs": [
    {
     "name": "stdout",
     "output_type": "stream",
     "text": [
      "tensor([[0.9333, 0.9882, 0.9882, 0.7020, 0.0471],\n",
      "        [0.9922, 0.9137, 0.8157, 0.3294, 0.0000],\n",
      "        [0.9412, 0.2784, 0.0745, 0.1098, 0.0000],\n",
      "        [0.2471, 0.0000, 0.0000, 0.0000, 0.0000],\n",
      "        [0.0000, 0.0000, 0.0000, 0.0000, 0.0000]])\n",
      "tensor(1.) tensor(0.)\n"
     ]
    }
   ],
   "source": [
    "#@ Look some sample values inside the tensor\n",
    "print(img_tensor[0, 10:15, 10:15])\n",
    "print(torch.max(img_tensor), torch.min(img_tensor))"
   ]
  },
  {
   "cell_type": "code",
   "execution_count": 9,
   "id": "bbad6044",
   "metadata": {},
   "outputs": [
    {
     "data": {
      "text/plain": [
       "<matplotlib.image.AxesImage at 0x7f20d6673940>"
      ]
     },
     "execution_count": 9,
     "metadata": {},
     "output_type": "execute_result"
    },
    {
     "data": {
      "image/png": "[encoded data removed]",
      "text/plain": [
       "<Figure size 640x480 with 1 Axes>"
      ]
     },
     "metadata": {},
     "output_type": "display_data"
    }
   ],
   "source": [
    "#@ Plot the image by passing in the 28*28 matrix\n",
    "plt.imshow(img_tensor[0, 10:15, 10:15])"
   ]
  },
  {
   "cell_type": "markdown",
   "id": "59c8b934",
   "metadata": {},
   "source": [
    "## Training and Validation Datasets\n",
    "\n",
    "While building real-world machine learning models, it is quite common to split the dataset into three parts:\n",
    "\n",
    "1. **Training set** - used to train the model, i.e., compute the loss and adjust the model's weights using gradient descent.\n",
    "2. **Validation set** - used to evaluate the model during training, adjust hyperparameters (learning rate, etc.), and pick the best version of the model.\n",
    "3. **Test set** - used to compare different models or approaches and report the model's final accuracy.\n",
    "\n",
    "In the MNIST dataset, there are 60,000 training images and 10,000 test images. The test set is standardized so that different researchers can report their models' results against the same collection of images. \n",
    "\n",
    "Since there's no predefined validation set, we must manually split the 60,000 images into training and validation datasets. Let's set aside 10,000 randomly chosen images for validation. We can do this using the `random_spilt` method from PyTorch."
   ]
  },
  {
   "cell_type": "code",
   "execution_count": 10,
   "id": "493cde3a",
   "metadata": {},
   "outputs": [
    {
     "data": {
      "text/plain": [
       "(50000, 10000)"
      ]
     },
     "execution_count": 10,
     "metadata": {},
     "output_type": "execute_result"
    }
   ],
   "source": [
    "from torch.utils.data import random_split\n",
    "\n",
    "train_ds, val_ds = random_split(data, [50000, 10000])\n",
    "len(train_ds), len(val_ds)"
   ]
  },
  {
   "cell_type": "code",
   "execution_count": 11,
   "id": "1a64e468",
   "metadata": {},
   "outputs": [],
   "source": [
    "#@ Creating data loaders to load the data in batches\n",
    "from torch.utils.data import DataLoader\n",
    "batch_size=128\n",
    "\n",
    "train_loader = DataLoader(train_ds, batch_size, shuffle=True)\n",
    "val_loader = DataLoader(val_ds, batch_size)"
   ]
  },
  {
   "cell_type": "markdown",
   "id": "1db4580b",
   "metadata": {},
   "source": [
    "## Model\n",
    "\n",
    "Now that we have prepared our data loaders, we can define our model.\n",
    "\n",
    "* A **logistic regression** model is almost identical to a linear regression model. It contains weights and bias matrices, and the output is obtained using simple matrix operations (`pred = x @ w.t() + b`). \n",
    "\n",
    "* As we did with linear regression, we can use `nn.Linear` to create the model instead of manually creating and initializing the matrices.\n",
    "\n",
    "* Since `nn.Linear` expects each training example to be a vector, each `1x28x28` image tensor is _flattened_ into a vector of size 784 `(28*28)` before being passed into the model. \n",
    "\n",
    "* The output for each image is a vector of size 10, with each element signifying the probability of a particular target label (i.e., 0 to 9). The predicted label for an image is simply the one with the highest probability."
   ]
  },
  {
   "cell_type": "code",
   "execution_count": 12,
   "id": "5d186046",
   "metadata": {},
   "outputs": [],
   "source": [
    "import torch.nn as nn\n",
    "\n",
    "input_size = 28*28\n",
    "num_classes = 10\n",
    "model = nn.Linear(input_size, num_classes)"
   ]
  },
  {
   "cell_type": "code",
   "execution_count": 13,
   "id": "de501eb8",
   "metadata": {},
   "outputs": [
    {
     "name": "stdout",
     "output_type": "stream",
     "text": [
      "torch.Size([10, 784])\n"
     ]
    },
    {
     "data": {
      "text/plain": [
       "Parameter containing:\n",
       "tensor([[-0.0185, -0.0124,  0.0004,  ..., -0.0343,  0.0048, -0.0071],\n",
       "        [ 0.0044, -0.0003,  0.0279,  ..., -0.0072,  0.0199, -0.0266],\n",
       "        [-0.0320,  0.0267, -0.0207,  ...,  0.0321,  0.0320, -0.0223],\n",
       "        ...,\n",
       "        [-0.0007, -0.0089, -0.0214,  ...,  0.0185, -0.0077,  0.0291],\n",
       "        [-0.0257,  0.0238, -0.0335,  ..., -0.0041,  0.0353,  0.0273],\n",
       "        [-0.0345,  0.0256,  0.0322,  ..., -0.0065, -0.0345, -0.0306]],\n",
       "       requires_grad=True)"
      ]
     },
     "execution_count": 13,
     "metadata": {},
     "output_type": "execute_result"
    }
   ],
   "source": [
    "#@ Looking the weights and biases\n",
    "print(model.weight.shape)\n",
    "model.weight"
   ]
  },
  {
   "cell_type": "code",
   "execution_count": 14,
   "id": "26c96353",
   "metadata": {},
   "outputs": [
    {
     "name": "stdout",
     "output_type": "stream",
     "text": [
      "torch.Size([10])\n"
     ]
    },
    {
     "data": {
      "text/plain": [
       "Parameter containing:\n",
       "tensor([ 0.0233,  0.0267,  0.0067, -0.0185,  0.0043,  0.0219, -0.0196,  0.0057,\n",
       "         0.0134, -0.0337], requires_grad=True)"
      ]
     },
     "execution_count": 14,
     "metadata": {},
     "output_type": "execute_result"
    }
   ],
   "source": [
    "print(model.bias.shape)\n",
    "model.bias"
   ]
  },
  {
   "cell_type": "code",
   "execution_count": 15,
   "id": "3352bea4",
   "metadata": {},
   "outputs": [
    {
     "name": "stdout",
     "output_type": "stream",
     "text": [
      "tensor([5, 1, 2, 8, 1, 4, 8, 3, 0, 1, 2, 6, 5, 7, 4, 8, 4, 8, 8, 2, 1, 2, 2, 2,\n",
      "        3, 9, 3, 1, 1, 7, 7, 2, 2, 1, 8, 7, 2, 3, 0, 0, 0, 1, 6, 7, 2, 8, 7, 9,\n",
      "        2, 7, 0, 5, 9, 2, 6, 6, 4, 7, 1, 7, 2, 3, 8, 8, 6, 2, 1, 2, 3, 7, 3, 1,\n",
      "        4, 6, 6, 3, 0, 4, 8, 6, 9, 7, 1, 4, 9, 0, 5, 3, 1, 0, 1, 0, 6, 6, 4, 9,\n",
      "        4, 5, 4, 0, 0, 8, 0, 9, 4, 7, 6, 3, 0, 1, 6, 1, 2, 3, 3, 7, 8, 2, 9, 8,\n",
      "        9, 3, 6, 8, 4, 7, 7, 7])\n",
      "torch.Size([128, 1, 28, 28])\n"
     ]
    },
    {
     "ename": "RuntimeError",
     "evalue": "mat1 and mat2 shapes cannot be multiplied (3584x28 and 784x10)",
     "output_type": "error",
     "traceback": [
      "\u001b[0;31m---------------------------------------------------------------------------\u001b[0m",
      "\u001b[0;31mRuntimeError\u001b[0m                              Traceback (most recent call last)",
      "Cell \u001b[0;32mIn[15], line 4\u001b[0m\n\u001b[1;32m      2\u001b[0m \u001b[38;5;28mprint\u001b[39m(labels)\n\u001b[1;32m      3\u001b[0m \u001b[38;5;28mprint\u001b[39m(images\u001b[38;5;241m.\u001b[39mshape)\n\u001b[0;32m----> 4\u001b[0m outputs \u001b[38;5;241m=\u001b[39m \u001b[43mmodel\u001b[49m\u001b[43m(\u001b[49m\u001b[43mimages\u001b[49m\u001b[43m)\u001b[49m\n\u001b[1;32m      5\u001b[0m \u001b[38;5;28mprint\u001b[39m(outputs)\n\u001b[1;32m      6\u001b[0m \u001b[38;5;28;01mbreak\u001b[39;00m\n",
      "File \u001b[0;32m~/.local/lib/python3.10/site-packages/torch/nn/modules/module.py:1194\u001b[0m, in \u001b[0;36mModule._call_impl\u001b[0;34m(self, *input, **kwargs)\u001b[0m\n\u001b[1;32m   1190\u001b[0m \u001b[38;5;66;03m# If we don't have any hooks, we want to skip the rest of the logic in\u001b[39;00m\n\u001b[1;32m   1191\u001b[0m \u001b[38;5;66;03m# this function, and just call forward.\u001b[39;00m\n\u001b[1;32m   1192\u001b[0m \u001b[38;5;28;01mif\u001b[39;00m \u001b[38;5;129;01mnot\u001b[39;00m (\u001b[38;5;28mself\u001b[39m\u001b[38;5;241m.\u001b[39m_backward_hooks \u001b[38;5;129;01mor\u001b[39;00m \u001b[38;5;28mself\u001b[39m\u001b[38;5;241m.\u001b[39m_forward_hooks \u001b[38;5;129;01mor\u001b[39;00m \u001b[38;5;28mself\u001b[39m\u001b[38;5;241m.\u001b[39m_forward_pre_hooks \u001b[38;5;129;01mor\u001b[39;00m _global_backward_hooks\n\u001b[1;32m   1193\u001b[0m         \u001b[38;5;129;01mor\u001b[39;00m _global_forward_hooks \u001b[38;5;129;01mor\u001b[39;00m _global_forward_pre_hooks):\n\u001b[0;32m-> 1194\u001b[0m     \u001b[38;5;28;01mreturn\u001b[39;00m \u001b[43mforward_call\u001b[49m\u001b[43m(\u001b[49m\u001b[38;5;241;43m*\u001b[39;49m\u001b[38;5;28;43minput\u001b[39;49m\u001b[43m,\u001b[49m\u001b[43m \u001b[49m\u001b[38;5;241;43m*\u001b[39;49m\u001b[38;5;241;43m*\u001b[39;49m\u001b[43mkwargs\u001b[49m\u001b[43m)\u001b[49m\n\u001b[1;32m   1195\u001b[0m \u001b[38;5;66;03m# Do not call functions when jit is used\u001b[39;00m\n\u001b[1;32m   1196\u001b[0m full_backward_hooks, non_full_backward_hooks \u001b[38;5;241m=\u001b[39m [], []\n",
      "File \u001b[0;32m~/.local/lib/python3.10/site-packages/torch/nn/modules/linear.py:114\u001b[0m, in \u001b[0;36mLinear.forward\u001b[0;34m(self, input)\u001b[0m\n\u001b[1;32m    113\u001b[0m \u001b[38;5;28;01mdef\u001b[39;00m \u001b[38;5;21mforward\u001b[39m(\u001b[38;5;28mself\u001b[39m, \u001b[38;5;28minput\u001b[39m: Tensor) \u001b[38;5;241m-\u001b[39m\u001b[38;5;241m>\u001b[39m Tensor:\n\u001b[0;32m--> 114\u001b[0m     \u001b[38;5;28;01mreturn\u001b[39;00m \u001b[43mF\u001b[49m\u001b[38;5;241;43m.\u001b[39;49m\u001b[43mlinear\u001b[49m\u001b[43m(\u001b[49m\u001b[38;5;28;43minput\u001b[39;49m\u001b[43m,\u001b[49m\u001b[43m \u001b[49m\u001b[38;5;28;43mself\u001b[39;49m\u001b[38;5;241;43m.\u001b[39;49m\u001b[43mweight\u001b[49m\u001b[43m,\u001b[49m\u001b[43m \u001b[49m\u001b[38;5;28;43mself\u001b[39;49m\u001b[38;5;241;43m.\u001b[39;49m\u001b[43mbias\u001b[49m\u001b[43m)\u001b[49m\n",
      "\u001b[0;31mRuntimeError\u001b[0m: mat1 and mat2 shapes cannot be multiplied (3584x28 and 784x10)"
     ]
    }
   ],
   "source": [
    "for images, labels in train_loader:\n",
    "    print(labels)\n",
    "    print(images.shape)\n",
    "    outputs = model(images)\n",
    "    print(outputs)\n",
    "    break"
   ]
  },
  {
   "cell_type": "markdown",
   "id": "5147c461",
   "metadata": {},
   "source": [
    "for images, labels in train_loader:\n",
    "    print(labels)\n",
    "    print(images.shape)\n",
    "    outputs = model(images)\n",
    "    print(outputs)\n",
    "    break"
   ]
  },
  {
   "cell_type": "code",
   "execution_count": 16,
   "id": "c44ad091",
   "metadata": {},
   "outputs": [
    {
     "data": {
      "text/plain": [
       "torch.Size([128, 1, 28, 28])"
      ]
     },
     "execution_count": 16,
     "metadata": {},
     "output_type": "execute_result"
    }
   ],
   "source": [
    "images.shape"
   ]
  },
  {
   "cell_type": "code",
   "execution_count": 17,
   "id": "6d58cd42",
   "metadata": {},
   "outputs": [
    {
     "data": {
      "text/plain": [
       "torch.Size([128, 784])"
      ]
     },
     "execution_count": 17,
     "metadata": {},
     "output_type": "execute_result"
    }
   ],
   "source": [
    "images.reshape(128, 784).shape"
   ]
  },
  {
   "cell_type": "code",
   "execution_count": 18,
   "id": "20f5de30",
   "metadata": {},
   "outputs": [],
   "source": [
    "#@ extend nn.Module class from PyTorch for defining custom model\n",
    "class MnistModel(nn.Module):\n",
    "    def __init__(self):\n",
    "        super().__init__()\n",
    "        self.linear = nn.Linear(input_size, num_classes)\n",
    "    \n",
    "    def forward(self, xb):\n",
    "        xb = xb.reshape(-1, 784)\n",
    "        out = self.linear(xb)\n",
    "        return out\n",
    "\n",
    "model = MnistModel()"
   ]
  },
  {
   "cell_type": "code",
   "execution_count": 19,
   "id": "27fc3d65",
   "metadata": {},
   "outputs": [
    {
     "data": {
      "text/plain": [
       "Linear(in_features=784, out_features=10, bias=True)"
      ]
     },
     "execution_count": 19,
     "metadata": {},
     "output_type": "execute_result"
    }
   ],
   "source": [
    "model.linear"
   ]
  },
  {
   "cell_type": "code",
   "execution_count": 20,
   "id": "03328bd1",
   "metadata": {},
   "outputs": [
    {
     "name": "stdout",
     "output_type": "stream",
     "text": [
      "torch.Size([10, 784]) torch.Size([10])\n"
     ]
    },
    {
     "data": {
      "text/plain": [
       "[Parameter containing:\n",
       " tensor([[-0.0171,  0.0258, -0.0293,  ..., -0.0307,  0.0021, -0.0318],\n",
       "         [-0.0297,  0.0206, -0.0155,  ...,  0.0170,  0.0041,  0.0279],\n",
       "         [-0.0079,  0.0044,  0.0233,  ..., -0.0348, -0.0167,  0.0318],\n",
       "         ...,\n",
       "         [ 0.0192, -0.0080, -0.0157,  ...,  0.0131,  0.0334,  0.0048],\n",
       "         [-0.0220, -0.0080, -0.0215,  ..., -0.0356, -0.0302,  0.0018],\n",
       "         [-0.0273, -0.0279, -0.0074,  ..., -0.0022, -0.0317, -0.0172]],\n",
       "        requires_grad=True),\n",
       " Parameter containing:\n",
       " tensor([-0.0123,  0.0151, -0.0163,  0.0324, -0.0253,  0.0111,  0.0236,  0.0051,\n",
       "          0.0060,  0.0035], requires_grad=True)]"
      ]
     },
     "execution_count": 20,
     "metadata": {},
     "output_type": "execute_result"
    }
   ],
   "source": [
    "print(model.linear.weight.shape, model.linear.bias.shape)\n",
    "list(model.parameters())"
   ]
  },
  {
   "cell_type": "code",
   "execution_count": 21,
   "id": "ab52dcee",
   "metadata": {},
   "outputs": [
    {
     "name": "stdout",
     "output_type": "stream",
     "text": [
      "torch.Size([128, 1, 28, 28])\n",
      "outputs shape:  torch.Size([128, 10])\n",
      "\n",
      "sample outputs: \n",
      " tensor([[ 0.3175, -0.0610, -0.3529, -0.1173, -0.0636, -0.0420, -0.0374,  0.2803,\n",
      "         -0.0718, -0.3880],\n",
      "        [ 0.0902, -0.3167, -0.1654, -0.1198, -0.1617, -0.0964, -0.0182, -0.0748,\n",
      "          0.3708, -0.0238]])\n"
     ]
    }
   ],
   "source": [
    "for images, labels in train_loader:\n",
    "    print(images.shape)\n",
    "    outputs = model(images)\n",
    "    break\n",
    "\n",
    "print('outputs shape: ', outputs.shape)\n",
    "print('\\nsample outputs: \\n', outputs[:2].data)"
   ]
  },
  {
   "cell_type": "code",
   "execution_count": 22,
   "id": "662941e4",
   "metadata": {},
   "outputs": [
    {
     "data": {
      "text/plain": [
       "tensor([[ 0.3175, -0.0610, -0.3529, -0.1173, -0.0636, -0.0420, -0.0374,  0.2803,\n",
       "         -0.0718, -0.3880],\n",
       "        [ 0.0902, -0.3167, -0.1654, -0.1198, -0.1617, -0.0964, -0.0182, -0.0748,\n",
       "          0.3708, -0.0238]], grad_fn=<SliceBackward0>)"
      ]
     },
     "execution_count": 22,
     "metadata": {},
     "output_type": "execute_result"
    }
   ],
   "source": [
    "import torch.nn.functional as F\n",
    "outputs[:2]"
   ]
  },
  {
   "cell_type": "code",
   "execution_count": 23,
   "id": "27aac47e",
   "metadata": {},
   "outputs": [
    {
     "name": "stdout",
     "output_type": "stream",
     "text": [
      "sample probabilities:\n",
      " tensor([[0.1416, 0.0970, 0.0724, 0.0917, 0.0967, 0.0989, 0.0993, 0.1365, 0.0960,\n",
      "         0.0699],\n",
      "        [0.1134, 0.0755, 0.0878, 0.0919, 0.0881, 0.0941, 0.1017, 0.0961, 0.1501,\n",
      "         0.1012]])\n",
      "sum:  0.9999999403953552\n"
     ]
    }
   ],
   "source": [
    "#@ Applying softmax for each output row\n",
    "probs = F.softmax(outputs, dim=1)\n",
    "print('sample probabilities:\\n', probs[:2].data)     # looking sample probabilities\n",
    "print('sum: ', torch.sum(probs[0]).item())"
   ]
  },
  {
   "cell_type": "code",
   "execution_count": 24,
   "id": "efbdaeb9",
   "metadata": {},
   "outputs": [
    {
     "name": "stdout",
     "output_type": "stream",
     "text": [
      "tensor([0, 8, 9, 8, 3, 4, 4, 4, 4, 7, 0, 3, 7, 3, 8, 4, 6, 4, 8, 3, 4, 3, 8, 4,\n",
      "        3, 4, 8, 7, 8, 7, 0, 8, 0, 2, 4, 8, 3, 3, 6, 3, 2, 3, 4, 0, 3, 7, 0, 3,\n",
      "        1, 0, 6, 6, 9, 7, 0, 8, 7, 0, 3, 4, 0, 0, 6, 8, 4, 6, 2, 0, 8, 6, 0, 2,\n",
      "        7, 0, 9, 2, 2, 2, 4, 1, 4, 4, 4, 4, 7, 1, 7, 3, 2, 3, 0, 7, 0, 8, 3, 3,\n",
      "        2, 3, 8, 0, 7, 2, 4, 1, 1, 8, 0, 0, 0, 3, 0, 8, 0, 8, 8, 0, 8, 0, 0, 8,\n",
      "        4, 8, 0, 9, 8, 7, 4, 0])\n",
      "tensor([0.1416, 0.1501, 0.1090, 0.1230, 0.1655, 0.1285, 0.1207, 0.1322, 0.1226,\n",
      "        0.1426, 0.1185, 0.1155, 0.1612, 0.1267, 0.1209, 0.1274, 0.1323, 0.1253,\n",
      "        0.1151, 0.1452, 0.1241, 0.1324, 0.1231, 0.1218, 0.1359, 0.1314, 0.1147,\n",
      "        0.1255, 0.1245, 0.1165, 0.1336, 0.1328, 0.1435, 0.1320, 0.1424, 0.1127,\n",
      "        0.1223, 0.1507, 0.1226, 0.1156, 0.1160, 0.1244, 0.1294, 0.1268, 0.1565,\n",
      "        0.1291, 0.1475, 0.1346, 0.1536, 0.1341, 0.1274, 0.1391, 0.1177, 0.1292,\n",
      "        0.1169, 0.1310, 0.1372, 0.1106, 0.1186, 0.1224, 0.1549, 0.1180, 0.1155,\n",
      "        0.1178, 0.1192, 0.1153, 0.1206, 0.1340, 0.1125, 0.1240, 0.1180, 0.1135,\n",
      "        0.1300, 0.1340, 0.1355, 0.1176, 0.1200, 0.1171, 0.1128, 0.1405, 0.1320,\n",
      "        0.1225, 0.1265, 0.1213, 0.1196, 0.1263, 0.1444, 0.1172, 0.1219, 0.1166,\n",
      "        0.1338, 0.1269, 0.1154, 0.1358, 0.1269, 0.1441, 0.1132, 0.1373, 0.1213,\n",
      "        0.1473, 0.1295, 0.1347, 0.1351, 0.1397, 0.1225, 0.1275, 0.1430, 0.1216,\n",
      "        0.1253, 0.1278, 0.1242, 0.1318, 0.1328, 0.1093, 0.1280, 0.1346, 0.1094,\n",
      "        0.1454, 0.1449, 0.1349, 0.1323, 0.1319, 0.1328, 0.1073, 0.1242, 0.1246,\n",
      "        0.1216, 0.1520], grad_fn=<MaxBackward0>)\n",
      "tensor([7, 7, 1, 0, 8, 6, 8, 2, 6, 5, 1, 4, 0, 6, 7, 4, 5, 1, 1, 3, 2, 8, 3, 2,\n",
      "        8, 9, 8, 8, 1, 1, 7, 3, 7, 6, 8, 9, 2, 3, 4, 9, 9, 0, 6, 7, 5, 5, 4, 8,\n",
      "        0, 4, 6, 6, 1, 5, 9, 3, 5, 2, 0, 6, 4, 4, 8, 1, 6, 4, 1, 7, 1, 6, 6, 1,\n",
      "        2, 7, 2, 6, 6, 5, 5, 9, 5, 2, 2, 8, 4, 8, 7, 1, 6, 4, 5, 5, 1, 7, 3, 3,\n",
      "        1, 3, 1, 4, 5, 5, 6, 5, 6, 7, 4, 2, 7, 5, 7, 7, 7, 9, 2, 7, 5, 9, 7, 2,\n",
      "        3, 2, 5, 9, 7, 8, 5, 4])\n"
     ]
    }
   ],
   "source": [
    "#@ comparing the predicted labels with actual labels\n",
    "max_probs, preds = torch.max(probs, dim=1)\n",
    "print(preds)\n",
    "print(max_probs)\n",
    "\n",
    "print(labels)"
   ]
  },
  {
   "cell_type": "markdown",
   "id": "e5e65115",
   "metadata": {},
   "source": [
    "**Evaluation Metrics and Loss Function**"
   ]
  },
  {
   "cell_type": "code",
   "execution_count": 25,
   "id": "ca29fbf7",
   "metadata": {},
   "outputs": [
    {
     "data": {
      "text/plain": [
       "tensor([[ 0.3175, -0.0610, -0.3529, -0.1173, -0.0636, -0.0420, -0.0374,  0.2803,\n",
       "         -0.0718, -0.3880],\n",
       "        [ 0.0902, -0.3167, -0.1654, -0.1198, -0.1617, -0.0964, -0.0182, -0.0748,\n",
       "          0.3708, -0.0238]], grad_fn=<SliceBackward0>)"
      ]
     },
     "execution_count": 25,
     "metadata": {},
     "output_type": "execute_result"
    }
   ],
   "source": [
    "outputs[:2]"
   ]
  },
  {
   "cell_type": "code",
   "execution_count": 26,
   "id": "b57eb33c",
   "metadata": {},
   "outputs": [
    {
     "data": {
      "text/plain": [
       "tensor(12)"
      ]
     },
     "execution_count": 26,
     "metadata": {},
     "output_type": "execute_result"
    }
   ],
   "source": [
    "torch.sum(preds == labels)"
   ]
  },
  {
   "cell_type": "code",
   "execution_count": 27,
   "id": "f515e6aa",
   "metadata": {},
   "outputs": [
    {
     "data": {
      "text/plain": [
       "tensor(0.0938)"
      ]
     },
     "execution_count": 27,
     "metadata": {},
     "output_type": "execute_result"
    }
   ],
   "source": [
    "def accuracy(outputs, labels):\n",
    "    _, preds = torch.max(outputs, dim=1)\n",
    "    return torch.tensor(torch.sum(preds == labels).item() / len(preds))\n",
    "\n",
    "accuracy(outputs, labels)"
   ]
  },
  {
   "cell_type": "code",
   "execution_count": 28,
   "id": "fd517511",
   "metadata": {},
   "outputs": [
    {
     "data": {
      "text/plain": [
       "tensor([[0.1416, 0.0970, 0.0724,  ..., 0.1365, 0.0960, 0.0699],\n",
       "        [0.1134, 0.0755, 0.0878,  ..., 0.0961, 0.1501, 0.1012],\n",
       "        [0.1084, 0.0946, 0.0906,  ..., 0.1072, 0.1007, 0.1090],\n",
       "        ...,\n",
       "        [0.1142, 0.1135, 0.0905,  ..., 0.1246, 0.0897, 0.0947],\n",
       "        [0.1082, 0.1056, 0.1147,  ..., 0.0939, 0.1128, 0.0857],\n",
       "        [0.1520, 0.0980, 0.0936,  ..., 0.1285, 0.0813, 0.1030]],\n",
       "       grad_fn=<SoftmaxBackward0>)"
      ]
     },
     "execution_count": 28,
     "metadata": {},
     "output_type": "execute_result"
    }
   ],
   "source": [
    "probs"
   ]
  },
  {
   "cell_type": "code",
   "execution_count": 29,
   "id": "1908ce3f",
   "metadata": {},
   "outputs": [
    {
     "data": {
      "text/plain": [
       "tensor([[ 0.3175, -0.0610, -0.3529,  ...,  0.2803, -0.0718, -0.3880],\n",
       "        [ 0.0902, -0.3167, -0.1654,  ..., -0.0748,  0.3708, -0.0238],\n",
       "        [ 0.0123, -0.1236, -0.1670,  ...,  0.0013, -0.0618,  0.0175],\n",
       "        ...,\n",
       "        [ 0.0973,  0.0910, -0.1351,  ...,  0.1843, -0.1450, -0.0898],\n",
       "        [ 0.0474,  0.0230,  0.1054,  ..., -0.0948,  0.0883, -0.1857],\n",
       "        [ 0.4196, -0.0188, -0.0650,  ...,  0.2516, -0.2061,  0.0311]],\n",
       "       grad_fn=<AddmmBackward0>)"
      ]
     },
     "execution_count": 29,
     "metadata": {},
     "output_type": "execute_result"
    }
   ],
   "source": [
    "outputs"
   ]
  },
  {
   "cell_type": "code",
   "execution_count": 30,
   "id": "d3b39763",
   "metadata": {},
   "outputs": [],
   "source": [
    "loss_fn = F.cross_entropy"
   ]
  },
  {
   "cell_type": "code",
   "execution_count": 31,
   "id": "47aadee5",
   "metadata": {},
   "outputs": [
    {
     "name": "stdout",
     "output_type": "stream",
     "text": [
      "tensor(2.3189, grad_fn=<NllLossBackward0>)\n"
     ]
    }
   ],
   "source": [
    "#@ Loss for current batch of data\n",
    "loss = loss_fn(outputs, labels)\n",
    "print(loss)"
   ]
  },
  {
   "cell_type": "markdown",
   "id": "10bd7fde",
   "metadata": {},
   "source": [
    "**Training the model**"
   ]
  },
  {
   "cell_type": "code",
   "execution_count": 32,
   "id": "db72d5cf",
   "metadata": {},
   "outputs": [],
   "source": [
    "def fit(epochs, lr, model, train_loader, val_loader, opt_func=torch.optim.SGD):\n",
    "    optimizer = opt_func(model.parameters(), lr)\n",
    "    history = []                             # record epoch wise results\n",
    "    \n",
    "    for epoch in range(epochs):\n",
    "        #@ Training Phase\n",
    "        for batch in train_loader:\n",
    "            loss = model.training_step(batch)\n",
    "            loss.backward()\n",
    "            optimizer.step()\n",
    "            optimizer.zero_grad()\n",
    "        \n",
    "        #@ Validation Phase\n",
    "        result = evaluate(model, val_loader)\n",
    "        model.epoch_end(epoch, result)\n",
    "        history.append(result)\n",
    "    return history"
   ]
  },
  {
   "cell_type": "code",
   "execution_count": 33,
   "id": "d4960dc4",
   "metadata": {},
   "outputs": [
    {
     "name": "stdout",
     "output_type": "stream",
     "text": [
      "[2, 4, 6, 8, 10]\n"
     ]
    }
   ],
   "source": [
    "#@ Lets evaluate the function\n",
    "l1 = [1, 2, 3, 4, 5]\n",
    "l2 = [x*2 for x in l1]\n",
    "print(l2)"
   ]
  },
  {
   "cell_type": "code",
   "execution_count": 34,
   "id": "233bc31e",
   "metadata": {},
   "outputs": [],
   "source": [
    "#@ Let's evaluate \n",
    "def evaluate(model, val_loader):\n",
    "    outputs = [model.validation_step(batch) for batch in val_loader]\n",
    "    return model.validation_epoch_end(outputs)"
   ]
  },
  {
   "cell_type": "code",
   "execution_count": 35,
   "id": "841ebb20",
   "metadata": {},
   "outputs": [],
   "source": [
    "class MnistModel(nn.Module):\n",
    "    def __init__(self):\n",
    "        super().__init__()\n",
    "        self.linear = nn.Linear(input_size, num_classes)\n",
    "    \n",
    "    def forward(self, xb):\n",
    "        xb = xb.reshape(-1, 784)\n",
    "        out = self.linear(xb)\n",
    "        return out\n",
    "    \n",
    "    def training_step(self, batch):\n",
    "        images, labels = batch\n",
    "        out = self(images)         # generate predictions\n",
    "        loss = F.cross_entropy(out, labels)\n",
    "        return loss\n",
    "    \n",
    "    def validation_step(self, batch):\n",
    "        images, labels = batch\n",
    "        out = self(images)\n",
    "        loss = F.cross_entropy(out, labels)\n",
    "        acc = accuracy(out, labels)\n",
    "        return {'val_loss': loss, 'val_acc': acc}\n",
    "    \n",
    "    def validation_epoch_end(self, outputs):\n",
    "        batch_losses = [x['val_loss'] for x in outputs]\n",
    "        epoch_loss = torch.stack(batch_losses).mean()   # Combine losses\n",
    "        batch_accs = [x['val_acc'] for x in outputs]\n",
    "        epoch_acc = torch.stack(batch_accs).mean()      # Combine accuracies\n",
    "        return {'val_loss': epoch_loss.item(), 'val_acc': epoch_acc.item()}\n",
    "    \n",
    "    def epoch_end(self, epoch, result):\n",
    "        print(\"Epoch [{}], val_loss: {:.4f}, val_acc: {:.4f}\".format(epoch, result['val_loss'], result['val_acc']))\n",
    "    \n",
    "model = MnistModel()"
   ]
  },
  {
   "cell_type": "code",
   "execution_count": 36,
   "id": "f81799a8",
   "metadata": {},
   "outputs": [
    {
     "data": {
      "text/plain": [
       "{'val_loss': 2.340096950531006, 'val_acc': 0.08623417466878891}"
      ]
     },
     "execution_count": 36,
     "metadata": {},
     "output_type": "execute_result"
    }
   ],
   "source": [
    "#@ Checking how the model performs on validation set\n",
    "result0 = evaluate(model, val_loader)\n",
    "result0"
   ]
  },
  {
   "cell_type": "code",
   "execution_count": 37,
   "id": "1e4e7606",
   "metadata": {},
   "outputs": [
    {
     "name": "stdout",
     "output_type": "stream",
     "text": [
      "Epoch [0], val_loss: 1.9733, val_acc: 0.6148\n",
      "Epoch [1], val_loss: 1.6984, val_acc: 0.7231\n",
      "Epoch [2], val_loss: 1.4926, val_acc: 0.7561\n",
      "Epoch [3], val_loss: 1.3374, val_acc: 0.7778\n",
      "Epoch [4], val_loss: 1.2180, val_acc: 0.7921\n"
     ]
    }
   ],
   "source": [
    "#@ training the model\n",
    "history1 = fit(5, 0.001, model, train_loader, val_loader)"
   ]
  },
  {
   "cell_type": "code",
   "execution_count": 38,
   "id": "aa4dc879",
   "metadata": {},
   "outputs": [
    {
     "name": "stdout",
     "output_type": "stream",
     "text": [
      "Epoch [0], val_loss: 1.1243, val_acc: 0.8030\n",
      "Epoch [1], val_loss: 1.0492, val_acc: 0.8107\n",
      "Epoch [2], val_loss: 0.9879, val_acc: 0.8177\n",
      "Epoch [3], val_loss: 0.9368, val_acc: 0.8223\n",
      "Epoch [4], val_loss: 0.8938, val_acc: 0.8259\n"
     ]
    }
   ],
   "source": [
    "#@ training the model\n",
    "history2 = fit(5, 0.001, model, train_loader, val_loader)"
   ]
  },
  {
   "cell_type": "code",
   "execution_count": 39,
   "id": "d360ca98",
   "metadata": {},
   "outputs": [
    {
     "name": "stdout",
     "output_type": "stream",
     "text": [
      "Epoch [0], val_loss: 0.8570, val_acc: 0.8313\n",
      "Epoch [1], val_loss: 0.8251, val_acc: 0.8337\n",
      "Epoch [2], val_loss: 0.7972, val_acc: 0.8373\n",
      "Epoch [3], val_loss: 0.7726, val_acc: 0.8395\n",
      "Epoch [4], val_loss: 0.7507, val_acc: 0.8409\n"
     ]
    }
   ],
   "source": [
    "#@ training the model\n",
    "history3 = fit(5, 0.001, model, train_loader, val_loader)"
   ]
  },
  {
   "cell_type": "code",
   "execution_count": 40,
   "id": "96374032",
   "metadata": {},
   "outputs": [
    {
     "name": "stdout",
     "output_type": "stream",
     "text": [
      "Epoch [0], val_loss: 0.7311, val_acc: 0.8432\n",
      "Epoch [1], val_loss: 0.7134, val_acc: 0.8451\n",
      "Epoch [2], val_loss: 0.6974, val_acc: 0.8464\n",
      "Epoch [3], val_loss: 0.6827, val_acc: 0.8485\n",
      "Epoch [4], val_loss: 0.6694, val_acc: 0.8499\n"
     ]
    }
   ],
   "source": [
    "#@ training the model\n",
    "history4 = fit(5, 0.001, model, train_loader, val_loader)"
   ]
  },
  {
   "cell_type": "code",
   "execution_count": 41,
   "id": "960532fd",
   "metadata": {},
   "outputs": [
    {
     "data": {
      "text/plain": [
       "Text(0.5, 1.0, 'Accuracy v/s No. of epochs')"
      ]
     },
     "execution_count": 41,
     "metadata": {},
     "output_type": "execute_result"
    },
    {
     "data": {
      "image/png": "[encoded data removed]",
      "text/plain": [
       "<Figure size 640x480 with 1 Axes>"
      ]
     },
     "metadata": {},
     "output_type": "display_data"
    }
   ],
   "source": [
    "#@ Lets visualize the training accuracy using line graph\n",
    "history = [result0] + history1 + history2 + history3 + history4\n",
    "accuracies = [result['val_acc'] for result in history]\n",
    "plt.plot(accuracies, '-x')\n",
    "plt.xlabel('epoch')\n",
    "plt.ylabel('accuracy')\n",
    "plt.title('Accuracy v/s No. of epochs')"
   ]
  },
  {
   "cell_type": "markdown",
   "id": "1528db72",
   "metadata": {},
   "source": [
    "- Here, we can see that the model probably won't cross the accuracy threshold of 90% even after training for a very long time. One possible reason for this might be the learning rate might be too high. We can try reducing the learning rate and training for a few more epochs \n",
    "- Also, other reason might be that the model isn't powerful enough. We might need more sophisticated models that can capture non-linear relationship between image pixels and labels for complex task like recognizing everyday objects, animals, etc"
   ]
  },
  {
   "cell_type": "markdown",
   "id": "f6514026",
   "metadata": {},
   "source": [
    "**Testing with individual images**"
   ]
  },
  {
   "cell_type": "code",
   "execution_count": 42,
   "id": "f3a8c32e",
   "metadata": {},
   "outputs": [],
   "source": [
    "#@ Testing the dataset\n",
    "test_dataset = MNIST(root='data/',\n",
    "                    train=False,\n",
    "                    transform=transforms.ToTensor())"
   ]
  },
  {
   "cell_type": "code",
   "execution_count": 43,
   "id": "7435801f",
   "metadata": {},
   "outputs": [
    {
     "name": "stdout",
     "output_type": "stream",
     "text": [
      "Shape:0, img.shape\n",
      "Label: 8\n"
     ]
    },
    {
     "data": {
      "image/png": "[encoded data removed]",
      "text/plain": [
       "<Figure size 640x480 with 1 Axes>"
      ]
     },
     "metadata": {},
     "output_type": "display_data"
    }
   ],
   "source": [
    "#@ Taking sample image from the dataset\n",
    "img, label = test_dataset[110]\n",
    "plt.imshow(img[0], cmap='gray')\n",
    "print('Shape:0, img.shape')\n",
    "print('Label:', label)"
   ]
  },
  {
   "cell_type": "code",
   "execution_count": 44,
   "id": "252d5f73",
   "metadata": {},
   "outputs": [],
   "source": [
    "#@ Defining helper function for predicting image\n",
    "def predict_image(img, model):\n",
    "    xb = img.unsqueeze(0)\n",
    "    yb = model(xb)\n",
    "    _, preds = torch.max(yb, dim=1)\n",
    "    return preds[0].item()"
   ]
  },
  {
   "cell_type": "markdown",
   "id": "0a94be2e",
   "metadata": {},
   "source": [
    "Here, `img.unsqueeze()` adds another dimension at the beginning of the tensor, which the model views as batch containing a single image"
   ]
  },
  {
   "cell_type": "code",
   "execution_count": 45,
   "id": "bb09e03d",
   "metadata": {},
   "outputs": [
    {
     "name": "stdout",
     "output_type": "stream",
     "text": [
      "Label: 8 , Predicted:  8\n"
     ]
    },
    {
     "data": {
      "image/png": "[encoded data removed]",
      "text/plain": [
       "<Figure size 640x480 with 1 Axes>"
      ]
     },
     "metadata": {},
     "output_type": "display_data"
    }
   ],
   "source": [
    "#@ Predicting the image with model\n",
    "img, label = test_dataset[110]\n",
    "plt.imshow(img[0], cmap='gray')\n",
    "print('Label:', label, ', Predicted: ', predict_image(img, model))"
   ]
  },
  {
   "cell_type": "code",
   "execution_count": 46,
   "id": "5ff31915",
   "metadata": {},
   "outputs": [
    {
     "name": "stdout",
     "output_type": "stream",
     "text": [
      "Label: 9 , Predicted:  3\n"
     ]
    },
    {
     "data": {
      "image/png": "[encoded data removed]",
      "text/plain": [
       "<Figure size 640x480 with 1 Axes>"
      ]
     },
     "metadata": {},
     "output_type": "display_data"
    }
   ],
   "source": [
    "#@ Predicting the image with model\n",
    "img, label = test_dataset[193]\n",
    "plt.imshow(img[0], cmap='gray')\n",
    "print('Label:', label, ', Predicted: ', predict_image(img, model))"
   ]
  },
  {
   "cell_type": "code",
   "execution_count": 47,
   "id": "7e2e670e",
   "metadata": {},
   "outputs": [
    {
     "name": "stdout",
     "output_type": "stream",
     "text": [
      "{'val_loss': 0.6428807973861694, 'val_acc': 0.8607422113418579}\n"
     ]
    }
   ],
   "source": [
    "#@ Checking overall loss and accuracy of the model in test set\n",
    "test_loader = DataLoader(test_dataset, batch_size=256)\n",
    "result = evaluate(model, test_loader)\n",
    "print(result)"
   ]
  }
 ],
 "metadata": {
  "kernelspec": {
   "display_name": "Python 3 (ipykernel)",
   "language": "python",
   "name": "python3"
  },
  "language_info": {
   "codemirror_mode": {
    "name": "ipython",
    "version": 3
   },
   "file_extension": ".py",
   "mimetype": "text/x-python",
   "name": "python",
   "nbconvert_exporter": "python",
   "pygments_lexer": "ipython3",
   "version": "3.10.6"
  }
 },
 "nbformat": 4,
 "nbformat_minor": 5
}
